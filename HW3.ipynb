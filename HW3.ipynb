{
 "cells": [
  {
   "cell_type": "markdown",
   "metadata": {},
   "source": [
    "# 动态规划\n",
    "\n",
    "下图是一个格子迷宫，这个格子迷宫可以用一个简单的 MDP 来描述。其中我们可以用智能体的位置表示状态。在每个格子处，智能体可以做出四个动作: North, West, South, East。所有的动作都能导致智能体以确定性的形式改变位置。其中 A 和 B 是两个特殊状态，奖励的定义如下, 其中  γ  = 0.9:\n",
    "\n",
    "- 除了 A、B 外，任何想要走出边界的动作都会撞墙，从而导致位置不变，获得-1的奖励\n",
    "- 除 A、B 外，任何非撞墙的动作都会获得0的奖励\n",
    "- 在 A 处无论做什么动作，都会跳转到 A′，并获得 +10 的奖励\n",
    "- 在 B 处无论做什么动作，都会跳转到 B′，并获得 +5 的奖励\n",
    "- 我们需要实现以下功能, 假设值函数初始化为0\n",
    "\n",
    "实现环境逻辑\n",
    "- 使用迭代式策略评价算法，计算随机策略的值函数。计算完后用表格的形式画出来\n",
    "- 使用策略迭代算法，计算最优值函数。并画出最优值函数和最优策略，并画出收敛曲线\n",
    "- 使用值迭代算法，计算最优值函数。并画出收敛曲线，和策略迭代对比\n",
    "- 使用就地 (in-place) 的值迭代算法，计算最优值函数。并画出收敛曲线, 与前两者对比\n",
    "\n",
    "(提示:环境部分代码已给;由于好策略的每一个状态的值函数都要大于坏的策略，所以收敛曲线的一种绘制方式画出平均值函数-迭代步数的曲线)"
   ]
  },
  {
   "cell_type": "code",
   "execution_count": 2,
   "metadata": {
    "collapsed": true
   },
   "outputs": [
    {
     "name": "stdout",
     "output_type": "stream",
     "text": [
      "2\n"
     ]
    }
   ],
   "source": [
    "a = 2\n",
    "print(a)"
   ]
  },
  {
   "cell_type": "code",
   "execution_count": null,
   "metadata": {},
   "outputs": [],
   "source": []
  }
 ],
 "metadata": {
  "kernelspec": {
   "display_name": "Python 2",
   "language": "python",
   "name": "python2"
  },
  "language_info": {
   "codemirror_mode": {
    "name": "ipython",
    "version": 2
   },
   "file_extension": ".py",
   "mimetype": "text/x-python",
   "name": "python",
   "nbconvert_exporter": "python",
   "pygments_lexer": "ipython2",
   "version": "2.7.6"
  }
 },
 "nbformat": 4,
 "nbformat_minor": 0
}
