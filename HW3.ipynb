{
 "cells": [
  {
   "cell_type": "markdown",
   "metadata": {},
   "source": [
    "# 动态规划\n",
    "\n",
    "下图是一个格子迷宫，这个格子迷宫可以用一个简单的 MDP 来描述。其中我们可以用智能体的位置表示状态。在每个格子处，智能体可以做出四个动作: North, West, South, East。所有的动作都能导致智能体以确定性的形式改变位置。其中 A 和 B 是两个特殊状态，奖励的定义如下, 其中  γ  = 0.9:\n",
    "\n",
    "- 除了 A、B 外，任何想要走出边界的动作都会撞墙，从而导致位置不变，获得-1的奖励\n",
    "- 除 A、B 外，任何非撞墙的动作都会获得0的奖励\n",
    "- 在 A 处无论做什么动作，都会跳转到 A′，并获得 +10 的奖励\n",
    "- 在 B 处无论做什么动作，都会跳转到 B′，并获得 +5 的奖励\n",
    "- 我们需要实现以下功能, 假设值函数初始化为0\n",
    "\n",
    "实现环境逻辑\n",
    "- 使用迭代式策略评价算法，计算随机策略的值函数。计算完后用表格的形式画出来\n",
    "- 使用策略迭代算法，计算最优值函数。并画出最优值函数和最优策略，并画出收敛曲线\n",
    "- 使用值迭代算法，计算最优值函数。并画出收敛曲线，和策略迭代对比\n",
    "- 使用就地 (in-place) 的值迭代算法，计算最优值函数。并画出收敛曲线, 与前两者对比\n",
    "\n",
    "(提示:环境部分代码已给;由于好策略的每一个状态的值函数都要大于坏的策略，所以收敛曲线的一种绘制方式画出平均值函数-迭代步数的曲线)\n",
    "\n",
    "![](http://ww1.sinaimg.cn/large/006tNc79ly1g4vtpd3ro6j30f10e6gmq.jpg)\n"
   ]
  },
  {
   "cell_type": "code",
   "execution_count": 1,
   "metadata": {},
   "outputs": [],
   "source": [
    "import numpy as np\n",
    "from code3_DP import Env, value_evaluate, policy_iteration, value_iteration, inplace_value_iteration\n",
    "\n",
    "WORLD_SIZE = 5\n",
    "N_ACTIONS = 4  # [North, South, West, East]\n",
    "gamma = 0.9"
   ]
  },
  {
   "cell_type": "code",
   "execution_count": 2,
   "metadata": {
    "collapsed": false
   },
   "outputs": [
    {
     "name": "stdout",
     "output_type": "stream",
     "text": [
      "State: (0,0) - action prob[0.25 0.25 0.25 0.25]\nState: (0,1) - action prob[0.25 0.25 0.25 0.25]\nState: (0,2) - action prob[0.25 0.25 0.25 0.25]\nState: (0,3) - action prob[0.25 0.25 0.25 0.25]\nState: (0,4) - action prob[0.25 0.25 0.25 0.25]\nState: (1,0) - action prob[0.25 0.25 0.25 0.25]\nState: (1,1) - action prob[0.25 0.25 0.25 0.25]\nState: (1,2) - action prob[0.25 0.25 0.25 0.25]\nState: (1,3) - action prob[0.25 0.25 0.25 0.25]\nState: (1,4) - action prob[0.25 0.25 0.25 0.25]\nState: (2,0) - action prob[0.25 0.25 0.25 0.25]\nState: (2,1) - action prob[0.25 0.25 0.25 0.25]\nState: (2,2) - action prob[0.25 0.25 0.25 0.25]\nState: (2,3) - action prob[0.25 0.25 0.25 0.25]\nState: (2,4) - action prob[0.25 0.25 0.25 0.25]\nState: (3,0) - action prob[0.25 0.25 0.25 0.25]\nState: (3,1) - action prob[0.25 0.25 0.25 0.25]\nState: (3,2) - action prob[0.25 0.25 0.25 0.25]\nState: (3,3) - action prob[0.25 0.25 0.25 0.25]\nState: (3,4) - action prob[0.25 0.25 0.25 0.25]\nState: (4,0) - action prob[0.25 0.25 0.25 0.25]\nState: (4,1) - action prob[0.25 0.25 0.25 0.25]\nState: (4,2) - action prob[0.25 0.25 0.25 0.25]\nState: (4,3) - action prob[0.25 0.25 0.25 0.25]\nState: (4,4) - action prob[0.25 0.25 0.25 0.25]\n"
     ]
    }
   ],
   "source": [
    "random_policy = np.full((WORLD_SIZE, WORLD_SIZE, N_ACTIONS),\n",
    "                        1. / N_ACTIONS, dtype=np.float32)\n",
    "# 可以打印随机策略所对应的表格\n",
    "for i in range(WORLD_SIZE):\n",
    "    for j in range(WORLD_SIZE):\n",
    "        print(\"State: ({},{}) - action prob{}\".format(i, j, random_policy[i, j]))"
   ]
  },
  {
   "cell_type": "code",
   "execution_count": 3,
   "metadata": {
    "collapsed": true
   },
   "outputs": [
    {
     "name": "stdout",
     "output_type": "stream",
     "text": [
      "[[ 3.308997    8.789292    4.42762     5.322368    1.4921793 ]\n [ 1.5215887   2.9923184   2.2501407   1.9075724   0.5474032 ]\n [ 0.05082303  0.73817116  0.6731138   0.3581868  -0.4031406 ]\n [-0.97359174 -0.43549493 -0.3548817  -0.58560455 -1.1830745 ]\n [-1.8577001  -1.3452307  -1.2292668  -1.4229176  -1.9751785 ]]\n"
     ]
    }
   ],
   "source": [
    "env = Env()\n",
    "random_V = value_evaluate(random_policy, env)\n",
    "print(random_V)"
   ]
  },
  {
   "cell_type": "code",
   "execution_count": 4,
   "metadata": {},
   "outputs": [],
   "source": [
    "V, mean_values, policy, run_times = policy_iteration()"
   ]
  },
  {
   "cell_type": "code",
   "execution_count": 5,
   "metadata": {},
   "outputs": [
    {
     "data": {
      "text/plain": [
       "array([[21.977484, 24.419426, 21.977484, 19.419426, 17.477484],\n       [19.779736, 21.977484, 19.779736, 17.801762, 16.021585],\n       [17.801762, 19.779736, 17.801762, 16.021585, 14.419427],\n       [16.021585, 17.801762, 16.021585, 14.419427, 12.977484],\n       [14.419427, 16.021585, 14.419427, 12.977484, 11.679734]],\n      dtype=float32)"
      ]
     },
     "execution_count": 5,
     "metadata": {},
     "output_type": "execute_result"
    }
   ],
   "source": [
    "V"
   ]
  },
  {
   "cell_type": "code",
   "execution_count": 6,
   "metadata": {},
   "outputs": [
    {
     "data": {
      "text/plain": [
       "array([[[0.  , 0.  , 0.  , 1.  ],\n        [0.25, 0.25, 0.25, 0.25],\n        [0.  , 0.  , 1.  , 0.  ],\n        [0.25, 0.25, 0.25, 0.25],\n        [0.  , 0.  , 1.  , 0.  ]],\n\n       [[0.5 , 0.  , 0.  , 0.5 ],\n        [1.  , 0.  , 0.  , 0.  ],\n        [0.5 , 0.  , 0.5 , 0.  ],\n        [0.  , 0.  , 1.  , 0.  ],\n        [0.  , 0.  , 1.  , 0.  ]],\n\n       [[0.5 , 0.  , 0.  , 0.5 ],\n        [1.  , 0.  , 0.  , 0.  ],\n        [0.5 , 0.  , 0.5 , 0.  ],\n        [0.5 , 0.  , 0.5 , 0.  ],\n        [0.5 , 0.  , 0.5 , 0.  ]],\n\n       [[0.5 , 0.  , 0.  , 0.5 ],\n        [1.  , 0.  , 0.  , 0.  ],\n        [0.5 , 0.  , 0.5 , 0.  ],\n        [0.5 , 0.  , 0.5 , 0.  ],\n        [0.5 , 0.  , 0.5 , 0.  ]],\n\n       [[0.5 , 0.  , 0.  , 0.5 ],\n        [1.  , 0.  , 0.  , 0.  ],\n        [0.5 , 0.  , 0.5 , 0.  ],\n        [0.5 , 0.  , 0.5 , 0.  ],\n        [0.5 , 0.  , 0.5 , 0.  ]]], dtype=float32)"
      ]
     },
     "execution_count": 6,
     "metadata": {},
     "output_type": "execute_result"
    }
   ],
   "source": [
    "policy"
   ]
  },
  {
   "cell_type": "markdown",
   "metadata": {},
   "source": [
    "我们根据上面的policy可以绘制出最优策略如下(其中格子中的多个箭头表示可以任选一个策略)：\n",
    "\n",
    "![](http://ww4.sinaimg.cn/large/006tNc79ly1g4w1by6e8tj305u04cdfz.jpg)\n"
   ]
  },
  {
   "cell_type": "code",
   "execution_count": 7,
   "metadata": {},
   "outputs": [],
   "source": [
    "V1, mean_values1, run_times1 = value_iteration()"
   ]
  },
  {
   "cell_type": "code",
   "execution_count": 8,
   "metadata": {},
   "outputs": [
    {
     "data": {
      "text/plain": [
       "array([[21.977484, 24.419426, 21.977484, 19.419426, 17.477484],\n       [19.779736, 21.977484, 19.779736, 17.801762, 16.021585],\n       [17.801762, 19.779736, 17.801762, 16.021585, 14.419427],\n       [16.021585, 17.801762, 16.021585, 14.419427, 12.977484],\n       [14.419427, 16.021585, 14.419427, 12.977484, 11.679734]],\n      dtype=float32)"
      ]
     },
     "execution_count": 8,
     "metadata": {},
     "output_type": "execute_result"
    }
   ],
   "source": [
    "V1"
   ]
  },
  {
   "cell_type": "code",
   "execution_count": 9,
   "metadata": {},
   "outputs": [
    {
     "name": "stdout",
     "output_type": "stream",
     "text": [
      "True\n"
     ]
    }
   ],
   "source": [
    "print(np.all(V - V1 < 1e-6))"
   ]
  },
  {
   "cell_type": "code",
   "execution_count": 10,
   "metadata": {},
   "outputs": [],
   "source": [
    "V2, mean_values2, run_times2 = inplace_value_iteration()"
   ]
  },
  {
   "cell_type": "code",
   "execution_count": 11,
   "metadata": {},
   "outputs": [
    {
     "name": "stdout",
     "output_type": "stream",
     "text": [
      "True\n"
     ]
    }
   ],
   "source": [
    "print(np.all(V - V2 < 1e-6))"
   ]
  },
  {
   "cell_type": "code",
   "execution_count": 12,
   "metadata": {},
   "outputs": [],
   "source": [
    "import matplotlib.pyplot as plt\n",
    "%matplotlib inline\n",
    "plt.style.use('ggplot')"
   ]
  },
  {
   "cell_type": "code",
   "execution_count": 13,
   "metadata": {},
   "outputs": [
    {
     "data": {
      "text/plain": [
       "Text(0, 0.5, 'Mean value function')"
      ]
     },
     "execution_count": 13,
     "metadata": {},
     "output_type": "execute_result"
    },
    {
     "data": {
      "image/png": "[encoded data removed]",
      "text/plain": [
       "<Figure size 432x288 with 1 Axes>"
      ]
     },
     "metadata": {},
     "output_type": "display_data"
    }
   ],
   "source": [
    "plt.plot(mean_values)\n",
    "plt.plot(mean_values1)\n",
    "plt.plot(mean_values2)\n",
    "plt.legend(['Policy iteration', 'Value Iteration', 'Inplace Value Iteration'])\n",
    "plt.xlabel('Update steps')\n",
    "plt.ylabel('Mean value function')"
   ]
  },
  {
   "cell_type": "markdown",
   "metadata": {},
   "source": [
    "可以看出，相同迭代步数的情况下\n",
    "\n",
    "- 策略迭代最快\n",
    "- 值迭代最慢\n",
    "\n",
    "这是因为策略迭代每次迭代都是在策略评价收敛之后再进行的策略提升，因此每次迭代时，值函数增长的越多"
   ]
  },
  {
   "cell_type": "code",
   "execution_count": 14,
   "metadata": {},
   "outputs": [
    {
     "data": {
      "text/plain": [
       "Text(0, 0.5, 'Mean value function')"
      ]
     },
     "execution_count": 14,
     "metadata": {},
     "output_type": "execute_result"
    },
    {
     "data": {
      "image/png": "[encoded data removed]",
      "text/plain": [
       "<Figure size 432x288 with 1 Axes>"
      ]
     },
     "metadata": {},
     "output_type": "display_data"
    }
   ],
   "source": [
    "plt.plot(run_times, mean_values)\n",
    "plt.plot(run_times1, mean_values1)\n",
    "plt.plot(run_times2, mean_values2)\n",
    "plt.legend(['Policy iteration', 'Value Iteration', 'Inplace Value Iteration'])\n",
    "plt.xlabel('times')\n",
    "plt.ylabel('Mean value function')"
   ]
  },
  {
   "cell_type": "markdown",
   "metadata": {},
   "source": [
    "可以看出，相同更新时间的情况下：\n",
    "\n",
    "- Inplace Value Iteration最快\n",
    "- 值迭代方法快于策略迭代的方法"
   ]
  },
  {
   "cell_type": "code",
   "execution_count": null,
   "metadata": {},
   "outputs": [],
   "source": []
  }
 ],
 "metadata": {
  "kernelspec": {
   "display_name": "Python 2",
   "language": "python",
   "name": "python2"
  },
  "language_info": {
   "codemirror_mode": {
    "name": "ipython",
    "version": 2
   },
   "file_extension": ".py",
   "mimetype": "text/x-python",
   "name": "python",
   "nbconvert_exporter": "python",
   "pygments_lexer": "ipython2",
   "version": "2.7.6"
  }
 },
 "nbformat": 4,
 "nbformat_minor": 0
}
