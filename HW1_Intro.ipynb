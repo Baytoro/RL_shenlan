{
 "cells": [
  {
   "cell_type": "markdown",
   "metadata": {
    "collapsed": true
   },
   "source": [
    "# TicTacToe\n",
    "TicTacToe 是一个简单的对抗游戏，棋盘大小为 3 × 3，谁先将 棋子连成线(横、竖、斜)，谁就获得胜利。(× 先手) 这里要求大家实 现以下功能:\n",
    "\n",
    "## 用数值的方式表示状态、动作、奖励(+1/0/-1 区分胜/平/负)\n",
    "环境类，环境能够根据智能体的动作给出反馈。即实现成员函数 step(a)→s, r\n",
    "智能体类，并包含一个随机策略，即从剩下的空位中随机采样一 个位置下。函数形式 policy(s)→ a\n",
    "通过仿真的方式，大量对弈，统计在都执行随机策略的情况下， 先手和后手胜利的概率。\n",
    "参考答案\n",
    "我们首先要定义一个环境类，这个环境用一个numpy表示状态\n",
    "\n",
    "分别用+1/-1/0表示X/O/空白\n",
    "![](http://ww4.sinaimg.cn/large/006tNc79ly1g4xyan0d34j304v04v3yv.jpg)"
   ]
  },
  {
   "cell_type": "code",
   "execution_count": null,
   "metadata": {
    "pycharm": {
     "is_executing": true,
     "name": "#%%\n"
    }
   },
   "outputs": [],
   "source": [
    "from code1_intro import TicTacToeEnv, RandAgent\n",
    "\n",
    "env = TicTacToeEnv()\n",
    "agent1 = RandAgent()\n",
    "agent2 = RandAgent()\n",
    "state = env.reset()\n",
    "\n",
    "# 这里给出了一次运行的代码参考\n",
    "# 你可以按照自己的想法实现\n",
    "# 多次实验，计算在双方随机策略下，先手胜/平/负的概率\n",
    "while 1:\n",
    "    current_player = env.getCurrentPlayer()\n",
    "    if current_player == 1:\n",
    "        action = agent1.policy(state)\n",
    "    else:\n",
    "        action = agent2.policy(state)\n",
    "    next_state, reward, terminal = env.step(action)\n",
    "    print(next_state)\n",
    "    if terminal:\n",
    "        winner = 'Player1' if env.getWinner() == 1 else 'Player2'\n",
    "        print('Winner: {}'.format(winner))\n",
    "        break\n",
    "    state = next_state"
   ]
  },
  {
   "cell_type": "code",
   "execution_count": null,
   "outputs": [],
   "source": [
    "\n"
   ],
   "metadata": {
    "collapsed": false,
    "pycharm": {
     "name": "#%%\n",
     "is_executing": true
    }
   }
  }
 ],
 "metadata": {
  "kernelspec": {
   "name": "python3",
   "language": "python",
   "display_name": "Python 3"
  },
  "language_info": {
   "codemirror_mode": {
    "name": "ipython",
    "version": 2
   },
   "file_extension": ".py",
   "mimetype": "text/x-python",
   "name": "python",
   "nbconvert_exporter": "python",
   "pygments_lexer": "ipython2",
   "version": "2.7.6"
  },
  "pycharm": {
   "stem_cell": {
    "cell_type": "raw",
    "source": [],
    "metadata": {
     "collapsed": false
    }
   }
  }
 },
 "nbformat": 4,
 "nbformat_minor": 0
}