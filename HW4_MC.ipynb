{
 "cells": [
  {
   "cell_type": "markdown",
   "metadata": {
    "collapsed": true
   },
   "source": [
    ""
   ]
  },
  {
   "cell_type": "markdown",
   "metadata": {},
   "source": [
    "# 编程作业\n",
    "- 使用第三课的编程作业中的格子迷宫环境。需要实现以下算法。 (在更新算法时，必须时无模型的，即不能使用 , ), 可以与第三课的作业进行对比\n",
    "- (在策略) 使用增量式蒙特卡洛的方法，计算随机策略的值函数。\n",
    "- 使用常量步长，计算随机策略的值函数。对比不同的值函数初始化下 (比如把值函数的初始值设为一个均值很大的正态分布等常量步长和一般增量式蒙特卡洛的收敛性。\n",
    "- 实现 GLIE 蒙特卡洛优化算法，求出最优策略。\n",
    "- 尝试在蒙特卡洛方法中使用贪婪的策略提升,是否能找出最优策略?跟什么有关?\n",
    "- (离策略) 选择行为策略 μ 为随机策略，然后使用增量式离策略每次拜访蒙特卡洛优化算法，求出此时的最优策略。"
   ]
  },
  {
   "cell_type": "code",
   "execution_count": 1,
   "metadata": {},
   "outputs": [],
   "source": [
    "import numpy as np\n",
    "from code3_DP import Env\n",
    "import time\n",
    "import copy\n",
    "WORLD_SIZE = 5\n",
    "N_ACTIONS = 4  # [North, South, West, East]\n",
    "gamma = 0.9"
   ]
  },
  {
   "cell_type": "code",
   "execution_count": 2,
   "metadata": {},
   "outputs": [],
   "source": [
    "class Agent:\n",
    "    def random_policy(self, s):\n",
    "        return np.random.randint(0, 4)"
   ]
  },
  {
   "cell_type": "code",
   "execution_count": 3,
   "metadata": {},
   "outputs": [],
   "source": [
    "def reset(self):\n",
    "    return np.random.randint(0, WORLD_SIZE, size=2)\n",
    "\n",
    "Agent.reset = reset"
   ]
  },
  {
   "cell_type": "code",
   "execution_count": 4,
   "metadata": {},
   "outputs": [],
   "source": [
    "def MCSample(env, policy, init_s, T=100):\n",
    "    episode = []\n",
    "    s = init_s\n",
    "    for t in range(T):\n",
    "        a = policy(s)\n",
    "        s_n, r = env.step(s, a)\n",
    "        episode.append(dict(s=s, a=a, r=r))\n",
    "        s = s_n\n",
    "    return episode"
   ]
  },
  {
   "cell_type": "code",
   "execution_count": 5,
   "metadata": {},
   "outputs": [
    {
     "data": {
      "text/plain": [
       "[{'s': [0, 0], 'a': 2, 'r': -1.0},\n {'s': [0, 0], 'a': 1, 'r': 0.0},\n {'s': [1, 0], 'a': 3, 'r': 0.0},\n {'s': [1, 1], 'a': 3, 'r': 0.0},\n {'s': [1, 2], 'a': 2, 'r': 0.0},\n {'s': [1, 1], 'a': 1, 'r': 0.0},\n {'s': [2, 1], 'a': 2, 'r': 0.0},\n {'s': [2, 0], 'a': 1, 'r': 0.0},\n {'s': [3, 0], 'a': 0, 'r': 0.0},\n {'s': [2, 0], 'a': 2, 'r': -1.0}]"
      ]
     },
     "execution_count": 5,
     "metadata": {},
     "output_type": "execute_result"
    }
   ],
   "source": [
    "env = Env()\n",
    "agent = Agent()\n",
    "MCSample(env, agent.random_policy, [0, 0], T=10)"
   ]
  },
  {
   "cell_type": "markdown",
   "metadata": {},
   "source": [
    "![](http://ww3.sinaimg.cn/large/006tNc79ly1g5ghiyu8oij30wv0eojvo.jpg)"
   ]
  },
  {
   "cell_type": "markdown",
   "metadata": {},
   "source": [
    "![](http://ww3.sinaimg.cn/large/006tNc79ly1g5ghcfgx59j307605rjrq.jpg)"
   ]
  },
  {
   "cell_type": "code",
   "execution_count": 7,
   "metadata": {},
   "outputs": [
    {
     "name": "stdout",
     "output_type": "stream",
     "text": [
      "[[ 3.2318485   8.761693    4.322973    5.2706537   1.3679551 ]\n [ 1.4697819   2.917472    2.2009223   1.9272352   0.5715466 ]\n [-0.03142615  0.6594296   0.6790036   0.34464988 -0.41246703]\n [-1.0245084  -0.4337774  -0.32361245 -0.56611615 -1.1804937 ]\n [-1.8734925  -1.359716   -1.242215   -1.4416777  -1.9510615 ]]\n"
     ]
    }
   ],
   "source": [
    "random_V = random_policy_evaluation(2000, 200)\n",
    "print(random_V)"
   ]
  },
  {
   "cell_type": "code",
   "execution_count": null,
   "metadata": {},
   "outputs": [],
   "source": []
  }
 ],
 "metadata": {
  "kernelspec": {
   "display_name": "Python 2",
   "language": "python",
   "name": "python2"
  },
  "language_info": {
   "codemirror_mode": {
    "name": "ipython",
    "version": 2
   },
   "file_extension": ".py",
   "mimetype": "text/x-python",
   "name": "python",
   "nbconvert_exporter": "python",
   "pygments_lexer": "ipython2",
   "version": "2.7.6"
  }
 },
 "nbformat": 4,
 "nbformat_minor": 0
}
