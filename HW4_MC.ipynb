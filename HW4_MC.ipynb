{
 "cells": [
  {
   "cell_type": "markdown",
   "metadata": {},
   "source": [
    "# 编程作业\n",
    "- 使用第三课的编程作业中的格子迷宫环境。需要实现以下算法。 (在更新算法时，必须时无模型的，即不能使用 , ), 可以与第三课的作业进行对比\n",
    "- (在策略) 使用增量式蒙特卡洛的方法，计算随机策略的值函数。\n",
    "- 使用常量步长，计算随机策略的值函数。对比不同的值函数初始化下 (比如把值函数的初始值设为一个均值很大的正态分布等常量步长和一般增量式蒙特卡洛的收敛性。\n",
    "- 实现 GLIE 蒙特卡洛优化算法，求出最优策略。\n",
    "- 尝试在蒙特卡洛方法中使用贪婪的策略提升,是否能找出最优策略?跟什么有关?\n",
    "- (离策略) 选择行为策略 μ 为随机策略，然后使用增量式离策略每次拜访蒙特卡洛优化算法，求出此时的最优策略。"
   ]
  },
  {
   "cell_type": "code",
   "execution_count": 2,
   "metadata": {},
   "outputs": [],
   "source": [
    "import numpy as np\n",
    "from code3_DP import Env\n",
    "import time\n",
    "import copy\n",
    "WORLD_SIZE = 5\n",
    "N_ACTIONS = 4  # [North, South, West, East]\n",
    "gamma = 0.9"
   ]
  },
  {
   "cell_type": "code",
   "execution_count": 3,
   "metadata": {},
   "outputs": [],
   "source": [
    "class Agent:\n",
    "    def random_policy(self, s):\n",
    "        return np.random.randint(0, 4)"
   ]
  },
  {
   "cell_type": "code",
   "execution_count": 4,
   "metadata": {},
   "outputs": [],
   "source": [
    "def reset(self):\n",
    "    return np.random.randint(0, WORLD_SIZE, size=2)\n",
    "\n",
    "Agent.reset = reset"
   ]
  },
  {
   "cell_type": "code",
   "execution_count": 5,
   "metadata": {},
   "outputs": [],
   "source": [
    "def MCSample(env, policy, init_s, T=100):\n",
    "    episode = []\n",
    "    s = init_s\n",
    "    for t in range(T):\n",
    "        a = policy(s)\n",
    "        s_n, r = env.step(s, a)\n",
    "        episode.append(dict(s=s, a=a, r=r))\n",
    "        s = s_n\n",
    "    return episode"
   ]
  },
  {
   "cell_type": "code",
   "execution_count": 6,
   "metadata": {},
   "outputs": [
    {
     "data": {
      "text/plain": [
       "[{'s': [0, 0], 'a': 0, 'r': -1.0},\n {'s': [0, 0], 'a': 2, 'r': -1.0},\n {'s': [0, 0], 'a': 3, 'r': 0.0},\n {'s': [0, 1], 'a': 0, 'r': 10.0},\n {'s': [4, 1], 'a': 2, 'r': 0.0},\n {'s': [4, 0], 'a': 3, 'r': 0.0},\n {'s': [4, 1], 'a': 0, 'r': 0.0},\n {'s': [3, 1], 'a': 0, 'r': 0.0},\n {'s': [2, 1], 'a': 2, 'r': 0.0},\n {'s': [2, 0], 'a': 1, 'r': 0.0}]"
      ]
     },
     "execution_count": 6,
     "metadata": {},
     "output_type": "execute_result"
    }
   ],
   "source": [
    "env = Env()\n",
    "agent = Agent()\n",
    "MCSample(env, agent.random_policy, [0, 0], T=10)"
   ]
  },
  {
   "cell_type": "code",
   "execution_count": 7,
   "metadata": {},
   "outputs": [
    {
     "name": "stdout",
     "output_type": "stream",
     "text": [
      "[[ 3.3258646   8.839572    4.5535564   5.311384    1.6135999 ]\n [ 1.5139716   2.992304    2.31242     1.8493847   0.5372376 ]\n [ 0.12444662  0.77103907  0.7184072   0.35925037 -0.4071942 ]\n [-0.91814077 -0.4002903  -0.32358122 -0.5665105  -1.2136256 ]\n [-1.811033   -1.3002293  -1.1849865  -1.3909183  -1.981357  ]]\n"
     ]
    }
   ],
   "source": [
    "random_V = random_policy_evaluation(2000, 200)\n",
    "print(random_V)"
   ]
  },
  {
   "cell_type": "markdown",
   "metadata": {},
   "source": [
    "![](http://ww4.sinaimg.cn/large/006tNc79ly1g5ghw0qhnmj30wk0erwio.jpg)"
   ]
  },
  {
   "cell_type": "code",
   "execution_count": 8,
   "metadata": {},
   "outputs": [],
   "source": [
    "def random_policy_evaluation(max_time_step=1000, T=200, V_init=None, alpha=None):\n",
    "    \"\"\"\n",
    "    这里alpha常量步长算法中的步长。如果alpha=None,表示不使用常量步长。\n",
    "    \"\"\"\n",
    "    if V_init is None:\n",
    "        V = np.zeros((WORLD_SIZE, WORLD_SIZE), dtype=np.float32)\n",
    "    else:\n",
    "        V = V_init\n",
    "    env = Env()\n",
    "    agent = Agent()\n",
    "    if alpha is None:\n",
    "        s_count = np.zeros((WORLD_SIZE, WORLD_SIZE), dtype=np.float32)\n",
    "    for _ in range(max_time_step):\n",
    "\n",
    "        init_s = agent.reset()\n",
    "        episode = MCSample(env, agent.random_policy, init_s, T=T)\n",
    "        g = 0\n",
    "        drop_step = 0\n",
    "        # 为了降低计算复杂度，可以反向遍历，可以只用维护一个g变量\n",
    "        for transition in episode[::-1]:\n",
    "            s, a, r = transition['s'], transition['a'], transition['r']\n",
    "            g = r + gamma * g\n",
    "            drop_step += 1\n",
    "            if drop_step > T / 2:\n",
    "                if alpha is None:\n",
    "                    s_count[s[0], s[1]] += 1\n",
    "                    V[s[0], s[1]] = V[s[0], s[1]] + (g - V[s[0], s[1]]) / s_count[s[0], s[1]]\n",
    "                else:\n",
    "                    V[s[0], s[1]] = V[s[0], s[1]] + (g - V[s[0], s[1]]) * alpha\n",
    "    return V"
   ]
  },
  {
   "cell_type": "code",
   "execution_count": 11,
   "metadata": {},
   "outputs": [
    {
     "name": "stdout",
     "output_type": "stream",
     "text": [
      "[[ 3.3351688   8.803972    4.4152913   5.3230157   1.6214232 ]\n [ 1.5292075   3.0158775   2.2903326   1.9095056   0.60355246]\n [ 0.04469734  0.7028334   0.6592238   0.36669415 -0.33925962]\n [-0.95392966 -0.4575108  -0.3852042  -0.558248   -1.1887605 ]\n [-1.8218725  -1.3281966  -1.2188294  -1.4320998  -2.0372064 ]]\n"
     ]
    }
   ],
   "source": [
    "random_V = random_policy_evaluation(2000, 200)\n",
    "print(random_V)"
   ]
  },
  {
   "cell_type": "markdown",
   "metadata": {},
   "source": [
    "![](http://ww1.sinaimg.cn/large/006tNc79ly1g5ghxws3jlj30m6055gmk.jpg)"
   ]
  },
  {
   "cell_type": "code",
   "execution_count": 12,
   "metadata": {},
   "outputs": [
    {
     "name": "stdout",
     "output_type": "stream",
     "text": [
      "[[ 5.011682    8.85752     5.1491265   4.8443146   0.3194144 ]\n [-0.21691914  2.823933    3.7166386   2.9417336   0.8124478 ]\n [-1.0914559   0.5311721   0.2672691   0.3495525   0.40145755]\n [-1.3017095   0.13145821 -0.6047236  -0.8255357  -0.6181143 ]\n [-2.6748776  -0.29108274 -1.0828218  -1.5781964  -1.2179748 ]]\n"
     ]
    }
   ],
   "source": [
    "random_V = random_policy_evaluation(2000, 200, alpha=0.1)\n",
    "print(random_V)"
   ]
  },
  {
   "cell_type": "markdown",
   "metadata": {},
   "source": [
    "可以看出常量步长下的误差更大\n"
   ]
  },
  {
   "cell_type": "markdown",
   "metadata": {},
   "source": [
    "接下来我们开始实现GLIE的MC优化算法，来寻找最优的策略。和之前的算法不同，GLIE有这么几个关键点：\n",
    "\n",
    "- 1 为了能够从值函数导出策略，我们需要更新的是Q函数，而不是V函数。\n",
    "- 2 我们需要保证探索（比如 ε -greedy)\n",
    "- 3 随着训练的进行，策略需要收敛到贪婪策略（比如，不断地衰减 ε 的值)\n",
    "实现GLIE如下\n",
    "\n",
    "首先我们先实现一个通过当前Q值和 ε 的值返回一个策略的函数"
   ]
  },
  {
   "cell_type": "code",
   "execution_count": 13,
   "metadata": {},
   "outputs": [],
   "source": [
    "def epsilon_greedy_policy(self, Q, epsilon):\n",
    "    \"\"\"Q: [x, y, a]\n",
    "    \"\"\" \n",
    "    def _policy(s):\n",
    "        Qs = Q[s[0], s[1]]\n",
    "        if np.random.uniform(0, 1) > epsilon:\n",
    "            return np.argmax(Qs)\n",
    "        else:\n",
    "            return np.random.randint(0, 4)\n",
    "    return _policy\n",
    "\n",
    "Agent.epsilon_greedy_policy = epsilon_greedy_policy"
   ]
  },
  {
   "cell_type": "code",
   "execution_count": 14,
   "metadata": {},
   "outputs": [],
   "source": [
    "def GLIE(max_time_step=1000, T=200):\n",
    "    env = Env()\n",
    "    agent = Agent()\n",
    "    counts = np.zeros((WORLD_SIZE, WORLD_SIZE, N_ACTIONS), dtype=np.float32)\n",
    "    Q = np.random.random((WORLD_SIZE, WORLD_SIZE, N_ACTIONS))\n",
    "    epsilon = 0.99\n",
    "    for k in range(1, max_time_step):\n",
    "        epsilon *= 0.99\n",
    "        policy = agent.epsilon_greedy_policy(Q, epsilon)\n",
    "        init_s = agent.reset()\n",
    "        episode = MCSample(env, policy, init_s, T=T)\n",
    "        g = 0\n",
    "        drop_step = 0\n",
    "        for transition in episode[::-1]:\n",
    "            s, a, r = transition['s'], transition['a'], transition['r']\n",
    "            g = r + gamma * g\n",
    "            drop_step += 1\n",
    "            if drop_step > T / 2:\n",
    "                counts[s[0], s[1], a] += 1\n",
    "                Q[s[0], s[1], a] += 1.0 / counts[s[0], s[1], a] * (g - Q[s[0], s[1], a])\n",
    "    return Q"
   ]
  },
  {
   "cell_type": "code",
   "execution_count": 15,
   "metadata": {},
   "outputs": [
    {
     "name": "stdout",
     "output_type": "stream",
     "text": [
      "[[3 0 2 1 2]\n [3 0 2 0 2]\n [0 0 0 0 0]\n [0 0 0 0 2]\n [0 0 0 0 0]]\n"
     ]
    }
   ],
   "source": [
    "optim_Q = GLIE(2000, 200)\n",
    "optim_policy = np.argmax(optim_Q, axis=-1)\n",
    "print(optim_policy)"
   ]
  },
  {
   "cell_type": "markdown",
   "metadata": {},
   "source": [
    "![](http://ww2.sinaimg.cn/large/006tNc79ly1g5gi1r6k1oj30rp0ay3zw.jpg)"
   ]
  },
  {
   "cell_type": "code",
   "execution_count": 16,
   "metadata": {},
   "outputs": [],
   "source": [
    "def greedy_Optim(max_time_step=1000, T=200):\n",
    "    env = Env()\n",
    "    agent = Agent()\n",
    "    counts = np.zeros((WORLD_SIZE, WORLD_SIZE, N_ACTIONS), dtype=np.float32)\n",
    "    Q = np.random.random((WORLD_SIZE, WORLD_SIZE, N_ACTIONS))\n",
    "    for k in range(1, max_time_step):\n",
    "        epsilon = -1\n",
    "        policy = agent.epsilon_greedy_policy(Q, epsilon)\n",
    "        init_s = agent.reset()\n",
    "        episode = MCSample(env, policy, init_s, T=T)\n",
    "        g = 0\n",
    "        drop_step = 0\n",
    "        for transition in episode[::-1]:\n",
    "            s, a, r = transition['s'], transition['a'], transition['r']\n",
    "            g = r + gamma * g\n",
    "            drop_step += 1\n",
    "            if drop_step > T / 2:\n",
    "                counts[s[0], s[1], a] += 1\n",
    "                Q[s[0], s[1], a] += 1.0 / counts[s[0], s[1], a] * (g - Q[s[0], s[1], a])\n",
    "    return Q"
   ]
  },
  {
   "cell_type": "code",
   "execution_count": 17,
   "metadata": {},
   "outputs": [
    {
     "name": "stdout",
     "output_type": "stream",
     "text": [
      "[[3 3 2 0 2]\n [0 0 0 0 2]\n [0 0 0 0 0]\n [0 1 0 0 0]\n [0 0 0 0 0]]\n"
     ]
    }
   ],
   "source": [
    "optim_Q = greedy_Optim(3000, 200)\n",
    "optim_policy = np.argmax(optim_Q, axis=-1)\n",
    "print(optim_policy)"
   ]
  },
  {
   "cell_type": "markdown",
   "metadata": {},
   "source": [
    "接下来我们实现增量式离策略每次拜访优化算法："
   ]
  },
  {
   "cell_type": "code",
   "execution_count": 18,
   "metadata": {},
   "outputs": [],
   "source": [
    "def increment_off_policy(max_time_step=1000, T=200):\n",
    "    env = Env()\n",
    "    agent = Agent()\n",
    "    counts = np.zeros((WORLD_SIZE, WORLD_SIZE, N_ACTIONS), dtype=np.float32)\n",
    "    Q = np.random.random((WORLD_SIZE, WORLD_SIZE, N_ACTIONS))\n",
    "    for k in range(max_time_step):\n",
    "        init_s = agent.reset()\n",
    "        episode = MCSample(env, agent.random_policy, init_s, T=T)  # 使用随机策略mu进行探索\n",
    "        g = 0\n",
    "        W = 1\n",
    "        drop_step = 0\n",
    "        for transition in episode[::-1]:\n",
    "            s, a, r = transition['s'], transition['a'], transition['r']\n",
    "            g = r + gamma * g\n",
    "            drop_step += 1\n",
    "            if drop_step > T / 2:\n",
    "                counts[s[0], s[1], a] += W\n",
    "                Q[s[0], s[1], a] += W / counts[s[0], s[1], a] * (g - Q[s[0], s[1], a])\n",
    "                if a != np.argmax(Q[s[0], s[1]]):\n",
    "                    break\n",
    "                W /= 0.25\n",
    "    return Q"
   ]
  },
  {
   "cell_type": "code",
   "execution_count": 20,
   "metadata": {},
   "outputs": [
    {
     "name": "stdout",
     "output_type": "stream",
     "text": [
      "[[3 1 2 0 1]\n [1 0 0 2 1]\n [3 0 0 2 2]\n [3 0 2 2 2]\n [0 3 0 3 2]]\n"
     ]
    }
   ],
   "source": [
    "optim_Q = increment_off_policy(10000, 200)\n",
    "optim_policy = np.argmax(optim_Q, axis=-1)\n",
    "print(optim_policy)"
   ]
  },
  {
   "cell_type": "code",
   "execution_count": null,
   "metadata": {},
   "outputs": [],
   "source": []
  }
 ],
 "metadata": {
  "kernelspec": {
   "display_name": "Python 2",
   "language": "python",
   "name": "python2"
  },
  "language_info": {
   "codemirror_mode": {
    "name": "ipython",
    "version": 2
   },
   "file_extension": ".py",
   "mimetype": "text/x-python",
   "name": "python",
   "nbconvert_exporter": "python",
   "pygments_lexer": "ipython2",
   "version": "2.7.6"
  }
 },
 "nbformat": 4,
 "nbformat_minor": 0
}
