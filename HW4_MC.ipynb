{
 "cells": [
  {
   "cell_type": "markdown",
   "metadata": {},
   "source": [
    "# 编程作业\n",
    "- 使用第三课的编程作业中的格子迷宫环境。需要实现以下算法。 (在更新算法时，必须时无模型的，即不能使用 , ), 可以与第三课的作业进行对比\n",
    "- (在策略) 使用增量式蒙特卡洛的方法，计算随机策略的值函数。\n",
    "- 使用常量步长，计算随机策略的值函数。对比不同的值函数初始化下 (比如把值函数的初始值设为一个均值很大的正态分布等常量步长和一般增量式蒙特卡洛的收敛性。\n",
    "- 实现 GLIE 蒙特卡洛优化算法，求出最优策略。\n",
    "- 尝试在蒙特卡洛方法中使用贪婪的策略提升,是否能找出最优策略?跟什么有关?\n",
    "- (离策略) 选择行为策略 μ 为随机策略，然后使用增量式离策略每次拜访蒙特卡洛优化算法，求出此时的最优策略。"
   ]
  },
  {
   "cell_type": "code",
   "execution_count": 1,
   "metadata": {
    "pycharm": {
     "is_executing": false
    }
   },
   "outputs": [],
   "source": [
    "import numpy as np\n",
    "from code3_DP import Env\n",
    "import time\n",
    "import copy\n",
    "WORLD_SIZE = 5\n",
    "N_ACTIONS = 4  # [North, South, West, East]\n",
    "gamma = 0.9"
   ]
  },
  {
   "cell_type": "code",
   "execution_count": 2,
   "metadata": {
    "pycharm": {
     "is_executing": false
    }
   },
   "outputs": [],
   "source": [
    "class Agent:\n",
    "    def random_policy(self, s):\n",
    "        return np.random.randint(0, 4)"
   ]
  },
  {
   "cell_type": "code",
   "execution_count": 3,
   "metadata": {
    "pycharm": {
     "is_executing": false
    }
   },
   "outputs": [],
   "source": [
    "def reset(self):\n",
    "    return np.random.randint(0, WORLD_SIZE, size=2)\n",
    "\n",
    "Agent.reset = reset"
   ]
  },
  {
   "cell_type": "code",
   "execution_count": 4,
   "metadata": {
    "pycharm": {
     "is_executing": false
    }
   },
   "outputs": [],
   "source": [
    "def MCSample(env, policy, init_s, T=100):\n",
    "    episode = []\n",
    "    s = init_s\n",
    "    for t in range(T):\n",
    "        a = policy(s)\n",
    "        s_n, r = env.step(s, a)\n",
    "        episode.append(dict(s=s, a=a, r=r))\n",
    "        s = s_n\n",
    "    return episode"
   ]
  },
  {
   "cell_type": "code",
   "execution_count": 5,
   "metadata": {
    "pycharm": {
     "is_executing": false
    }
   },
   "outputs": [
    {
     "data": {
      "text/plain": "[{'s': [0, 0], 'a': 2, 'r': -1.0},\n {'s': [0, 0], 'a': 0, 'r': -1.0},\n {'s': [0, 0], 'a': 2, 'r': -1.0},\n {'s': [0, 0], 'a': 2, 'r': -1.0},\n {'s': [0, 0], 'a': 0, 'r': -1.0},\n {'s': [0, 0], 'a': 0, 'r': -1.0},\n {'s': [0, 0], 'a': 0, 'r': -1.0},\n {'s': [0, 0], 'a': 2, 'r': -1.0},\n {'s': [0, 0], 'a': 3, 'r': 0.0},\n {'s': [0, 1], 'a': 2, 'r': 10.0}]"
     },
     "metadata": {},
     "output_type": "execute_result",
     "execution_count": 5
    }
   ],
   "source": [
    "env = Env()\n",
    "agent = Agent()\n",
    "MCSample(env, agent.random_policy, [0, 0], T=10)"
   ]
  },
  {
   "cell_type": "code",
   "execution_count": 6,
   "outputs": [],
   "source": [
    "def random_policy_evaluation(max_time_step=1000, T=200, V_init=None, alpha=None):\n",
    "    \"\"\"\n",
    "    这里alpha常量步长算法中的步长。如果alpha=None,表示不使用常量步长。\n",
    "    \"\"\"\n",
    "    if V_init is None:\n",
    "        V = np.zeros((WORLD_SIZE, WORLD_SIZE), dtype=np.float32)\n",
    "    else:\n",
    "        V = V_init\n",
    "    env = Env()\n",
    "    agent = Agent()\n",
    "    if alpha is None:\n",
    "        s_count = np.zeros((WORLD_SIZE, WORLD_SIZE), dtype=np.float32)\n",
    "    for _ in range(max_time_step):\n",
    "\n",
    "        init_s = agent.reset()\n",
    "        episode = MCSample(env, agent.random_policy, init_s, T=T)\n",
    "        g = 0\n",
    "        drop_step = 0\n",
    "        # 为了降低计算复杂度，可以反向遍历，可以只用维护一个g变量\n",
    "        for transition in episode[::-1]:\n",
    "            s, a, r = transition['s'], transition['a'], transition['r']\n",
    "            g = r + gamma * g\n",
    "            drop_step += 1\n",
    "            if drop_step > T / 2:\n",
    "                if alpha is None:\n",
    "                    s_count[s[0], s[1]] += 1\n",
    "                    V[s[0], s[1]] = V[s[0], s[1]] + (g - V[s[0], s[1]]) / s_count[s[0], s[1]]\n",
    "                else:\n",
    "                    V[s[0], s[1]] = V[s[0], s[1]] + (g - V[s[0], s[1]]) * alpha\n",
    "    return V"
   ],
   "metadata": {
    "collapsed": false,
    "pycharm": {
     "name": "#%%\n",
     "is_executing": false
    }
   }
  },
  {
   "cell_type": "code",
   "execution_count": 7,
   "metadata": {
    "pycharm": {
     "is_executing": false
    }
   },
   "outputs": [
    {
     "name": "stdout",
     "text": [
      "[[ 3.3911808   8.782748    4.6850076   5.3397326   1.4900396 ]\n [ 1.5520037   2.921136    2.3135724   2.0685825   0.65293974]\n [ 0.05544021  0.76511365  0.71274924  0.43168846 -0.31611654]\n [-0.97082937 -0.4022827  -0.32979733 -0.5776283  -1.1455901 ]\n [-1.8563095  -1.3187003  -1.1959155  -1.391154   -1.8886324 ]]\n"
     ],
     "output_type": "stream"
    }
   ],
   "source": [
    "random_V = random_policy_evaluation(2000, 200)\n",
    "print(random_V)"
   ]
  },
  {
   "cell_type": "markdown",
   "metadata": {},
   "source": [
    "![](http://ww4.sinaimg.cn/large/006tNc79ly1g5ghw0qhnmj30wk0erwio.jpg)\n",
    "\n"
   ]
  },
  {
   "cell_type": "code",
   "execution_count": 8,
   "outputs": [],
   "source": [
    "def random_policy_evaluation(max_time_step=1000, T=200, V_init=None, alpha=None):\n",
    "    \"\"\"\n",
    "    这里alpha常量步长算法中的步长。如果alpha=None,表示不使用常量步长。\n",
    "    \"\"\"\n",
    "    if V_init is None:\n",
    "        V = np.zeros((WORLD_SIZE, WORLD_SIZE), dtype=np.float32)\n",
    "    else:\n",
    "        V = V_init\n",
    "    env = Env()\n",
    "    agent = Agent()\n",
    "    if alpha is None:\n",
    "        s_count = np.zeros((WORLD_SIZE, WORLD_SIZE), dtype=np.float32)\n",
    "    for _ in range(max_time_step):\n",
    "\n",
    "        init_s = agent.reset()\n",
    "        episode = MCSample(env, agent.random_policy, init_s, T=T)\n",
    "        g = 0\n",
    "        drop_step = 0\n",
    "        # 为了降低计算复杂度，可以反向遍历，可以只用维护一个g变量\n",
    "        for transition in episode[::-1]:\n",
    "            s, a, r = transition['s'], transition['a'], transition['r']\n",
    "            g = r + gamma * g\n",
    "            drop_step += 1\n",
    "            if drop_step > T / 2:\n",
    "                if alpha is None:\n",
    "                    s_count[s[0], s[1]] += 1\n",
    "                    V[s[0], s[1]] = V[s[0], s[1]] + (g - V[s[0], s[1]]) / s_count[s[0], s[1]]\n",
    "                else:\n",
    "                    V[s[0], s[1]] = V[s[0], s[1]] + (g - V[s[0], s[1]]) * alpha\n",
    "    return V"
   ],
   "metadata": {
    "collapsed": false,
    "pycharm": {
     "name": "#%%\n",
     "is_executing": false
    }
   }
  },
  {
   "cell_type": "code",
   "execution_count": 9,
   "metadata": {
    "pycharm": {
     "is_executing": false
    }
   },
   "outputs": [
    {
     "name": "stdout",
     "text": [
      "[[ 3.4674397   8.80356     4.487427    5.483228    1.613079  ]\n [ 1.5144688   2.9913697   2.313193    1.9929569   0.6959599 ]\n [ 0.01889825  0.7167087   0.6872955   0.4519823  -0.33090007]\n [-0.96016335 -0.44564405 -0.3579836  -0.5370258  -1.1255953 ]\n [-1.8871627  -1.3777544  -1.2457054  -1.3900825  -1.8995789 ]]\n"
     ],
     "output_type": "stream"
    }
   ],
   "source": [
    "random_V = random_policy_evaluation(2000, 200)\n",
    "print(random_V)\n"
   ]
  },
  {
   "cell_type": "markdown",
   "source": [
    "![](http://ww1.sinaimg.cn/large/006tNc79ly1g5ghxws3jlj30m6055gmk.jpg)"
   ],
   "metadata": {
    "collapsed": false
   }
  },
  {
   "cell_type": "code",
   "execution_count": 10,
   "metadata": {
    "pycharm": {
     "is_executing": false
    }
   },
   "outputs": [
    {
     "name": "stdout",
     "text": [
      "[[ 4.4889317   9.127194    4.849655    5.513523    0.9619732 ]\n [ 1.1219475   4.2433023   4.5203247   2.9436836   0.15085517]\n [-0.3457649   2.0828152   1.98433     0.62299305 -0.05702705]\n [ 0.32030225 -0.44546118 -0.30470967 -1.1299189  -1.1479304 ]\n [-0.02236242 -0.5579249  -0.29912665 -0.78376895 -2.4887552 ]]\n"
     ],
     "output_type": "stream"
    }
   ],
   "source": [
    "random_V = random_policy_evaluation(2000, 200, alpha=0.1)\n",
    "print(random_V)"
   ]
  },
  {
   "cell_type": "markdown",
   "metadata": {},
   "source": [
    "可以看出常量步长下的误差更大\n"
   ]
  },
  {
   "cell_type": "markdown",
   "metadata": {},
   "source": [
    "接下来我们开始实现GLIE的MC优化算法，来寻找最优的策略。和之前的算法不同，GLIE有这么几个关键点：\n",
    "\n",
    "- 1 为了能够从值函数导出策略，我们需要更新的是Q函数，而不是V函数。\n",
    "- 2 我们需要保证探索（比如 ε -greedy)\n",
    "- 3 随着训练的进行，策略需要收敛到贪婪策略（比如，不断地衰减 ε 的值)\n",
    "实现GLIE如下\n",
    "\n",
    "首先我们先实现一个通过当前Q值和 ε 的值返回一个策略的函数"
   ]
  },
  {
   "cell_type": "code",
   "execution_count": 11,
   "metadata": {
    "pycharm": {
     "is_executing": false
    }
   },
   "outputs": [],
   "source": [
    "def epsilon_greedy_policy(self, Q, epsilon):\n",
    "    \"\"\"Q: [x, y, a]\n",
    "    \"\"\" \n",
    "    def _policy(s):\n",
    "        Qs = Q[s[0], s[1]]\n",
    "        if np.random.uniform(0, 1) > epsilon:\n",
    "            return np.argmax(Qs)\n",
    "        else:\n",
    "            return np.random.randint(0, 4)\n",
    "    return _policy\n",
    "\n",
    "Agent.epsilon_greedy_policy = epsilon_greedy_policy"
   ]
  },
  {
   "cell_type": "code",
   "execution_count": 12,
   "metadata": {
    "pycharm": {
     "is_executing": false
    }
   },
   "outputs": [],
   "source": [
    "def GLIE(max_time_step=1000, T=200):\n",
    "    env = Env()\n",
    "    agent = Agent()\n",
    "    counts = np.zeros((WORLD_SIZE, WORLD_SIZE, N_ACTIONS), dtype=np.float32)\n",
    "    Q = np.random.random((WORLD_SIZE, WORLD_SIZE, N_ACTIONS))\n",
    "    epsilon = 0.99\n",
    "    for k in range(1, max_time_step):\n",
    "        epsilon *= 0.99\n",
    "        policy = agent.epsilon_greedy_policy(Q, epsilon)\n",
    "        init_s = agent.reset()\n",
    "        episode = MCSample(env, policy, init_s, T=T)\n",
    "        g = 0\n",
    "        drop_step = 0\n",
    "        for transition in episode[::-1]:\n",
    "            s, a, r = transition['s'], transition['a'], transition['r']\n",
    "            g = r + gamma * g\n",
    "            drop_step += 1\n",
    "            if drop_step > T / 2:\n",
    "                counts[s[0], s[1], a] += 1\n",
    "                Q[s[0], s[1], a] += 1.0 / counts[s[0], s[1], a] * (g - Q[s[0], s[1], a])\n",
    "    return Q"
   ]
  },
  {
   "cell_type": "code",
   "execution_count": 13,
   "metadata": {
    "pycharm": {
     "is_executing": false
    }
   },
   "outputs": [
    {
     "name": "stdout",
     "text": [
      "[[3 0 2 2 2]\n [0 0 0 0 2]\n [3 0 0 0 0]\n [0 0 0 0 2]\n [3 0 0 0 2]]\n"
     ],
     "output_type": "stream"
    }
   ],
   "source": [
    "optim_Q = GLIE(2000, 200)\n",
    "optim_policy = np.argmax(optim_Q, axis=-1)\n",
    "print(optim_policy)"
   ]
  },
  {
   "cell_type": "markdown",
   "metadata": {},
   "source": [
    "![](http://ww2.sinaimg.cn/large/006tNc79ly1g5gi1r6k1oj30rp0ay3zw.jpg)"
   ]
  },
  {
   "cell_type": "code",
   "execution_count": 14,
   "metadata": {
    "pycharm": {
     "is_executing": false
    }
   },
   "outputs": [],
   "source": [
    "def greedy_Optim(max_time_step=1000, T=200):\n",
    "    env = Env()\n",
    "    agent = Agent()\n",
    "    counts = np.zeros((WORLD_SIZE, WORLD_SIZE, N_ACTIONS), dtype=np.float32)\n",
    "    Q = np.random.random((WORLD_SIZE, WORLD_SIZE, N_ACTIONS))\n",
    "    for k in range(1, max_time_step):\n",
    "        epsilon = -1\n",
    "        policy = agent.epsilon_greedy_policy(Q, epsilon)\n",
    "        init_s = agent.reset()\n",
    "        episode = MCSample(env, policy, init_s, T=T)\n",
    "        g = 0\n",
    "        drop_step = 0\n",
    "        for transition in episode[::-1]:\n",
    "            s, a, r = transition['s'], transition['a'], transition['r']\n",
    "            g = r + gamma * g\n",
    "            drop_step += 1\n",
    "            if drop_step > T / 2:\n",
    "                counts[s[0], s[1], a] += 1\n",
    "                Q[s[0], s[1], a] += 1.0 / counts[s[0], s[1], a] * (g - Q[s[0], s[1], a])\n",
    "    return Q"
   ]
  },
  {
   "cell_type": "code",
   "execution_count": 15,
   "metadata": {
    "pycharm": {
     "is_executing": false
    }
   },
   "outputs": [
    {
     "name": "stdout",
     "text": [
      "[[3 2 2 2 2]\n [3 0 1 0 0]\n [0 0 2 0 0]\n [1 0 2 0 0]\n [3 0 0 0 0]]\n"
     ],
     "output_type": "stream"
    }
   ],
   "source": [
    "optim_Q = greedy_Optim(3000, 200)\n",
    "optim_policy = np.argmax(optim_Q, axis=-1)\n",
    "print(optim_policy)"
   ]
  },
  {
   "cell_type": "markdown",
   "metadata": {},
   "source": [
    "接下来我们实现增量式离策略每次拜访优化算法："
   ]
  },
  {
   "cell_type": "code",
   "execution_count": 16,
   "metadata": {
    "pycharm": {
     "is_executing": false
    }
   },
   "outputs": [],
   "source": [
    "def increment_off_policy(max_time_step=1000, T=200):\n",
    "    env = Env()\n",
    "    agent = Agent()\n",
    "    counts = np.zeros((WORLD_SIZE, WORLD_SIZE, N_ACTIONS), dtype=np.float32)\n",
    "    Q = np.random.random((WORLD_SIZE, WORLD_SIZE, N_ACTIONS))\n",
    "    for k in range(max_time_step):\n",
    "        init_s = agent.reset()\n",
    "        episode = MCSample(env, agent.random_policy, init_s, T=T)  # 使用随机策略mu进行探索\n",
    "        g = 0\n",
    "        W = 1\n",
    "        drop_step = 0\n",
    "        for transition in episode[::-1]:\n",
    "            s, a, r = transition['s'], transition['a'], transition['r']\n",
    "            g = r + gamma * g\n",
    "            drop_step += 1\n",
    "            if drop_step > T / 2:\n",
    "                counts[s[0], s[1], a] += W\n",
    "                Q[s[0], s[1], a] += W / counts[s[0], s[1], a] * (g - Q[s[0], s[1], a])\n",
    "                if a != np.argmax(Q[s[0], s[1]]):\n",
    "                    break\n",
    "                W /= 0.25\n",
    "    return Q"
   ]
  },
  {
   "cell_type": "code",
   "execution_count": 17,
   "metadata": {
    "pycharm": {
     "is_executing": false
    }
   },
   "outputs": [
    {
     "name": "stdout",
     "text": [
      "[[3 3 2 1 2]\n [0 0 2 0 2]\n [0 0 3 0 0]\n [0 2 0 2 2]\n [3 0 0 0 0]]\n"
     ],
     "output_type": "stream"
    }
   ],
   "source": [
    "optim_Q = increment_off_policy(10000, 200)\n",
    "optim_policy = np.argmax(optim_Q, axis=-1)\n",
    "print(optim_policy)"
   ]
  },
  {
   "cell_type": "markdown",
   "metadata": {
    "pycharm": {
     "is_executing": false,
     "name": "#%% md\n"
    }
   },
   "source": []
  }
 ],
 "metadata": {
  "kernelspec": {
   "name": "python3",
   "language": "python",
   "display_name": "Python 3"
  },
  "language_info": {
   "codemirror_mode": {
    "name": "ipython",
    "version": 2
   },
   "file_extension": ".py",
   "mimetype": "text/x-python",
   "name": "python",
   "nbconvert_exporter": "python",
   "pygments_lexer": "ipython2",
   "version": "2.7.6"
  },
  "pycharm": {
   "stem_cell": {
    "cell_type": "raw",
    "source": [],
    "metadata": {
     "collapsed": false
    }
   }
  }
 },
 "nbformat": 4,
 "nbformat_minor": 0
}