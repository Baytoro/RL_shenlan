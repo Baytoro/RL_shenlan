{
 "cells": [
  {
   "cell_type": "markdown",
   "metadata": {},
   "source": [
    "# 动态规划\n",
    "\n",
    "下图是一个格子迷宫，这个格子迷宫可以用一个简单的 MDP 来描述。其中我们可以用智能体的位置表示状态。在每个格子处，智能体可以做出四个动作: North, West, South, East。所有的动作都能导致智能体以确定性的形式改变位置。其中 A 和 B 是两个特殊状态，奖励的定义如下, 其中  γ  = 0.9:\n",
    "\n",
    "- 除了 A、B 外，任何想要走出边界的动作都会撞墙，从而导致位置不变，获得-1的奖励\n",
    "- 除 A、B 外，任何非撞墙的动作都会获得0的奖励\n",
    "- 在 A 处无论做什么动作，都会跳转到 A′，并获得 +10 的奖励\n",
    "- 在 B 处无论做什么动作，都会跳转到 B′，并获得 +5 的奖励\n",
    "- 我们需要实现以下功能, 假设值函数初始化为0\n",
    "\n",
    "实现环境逻辑\n",
    "- 使用迭代式策略评价算法，计算随机策略的值函数。计算完后用表格的形式画出来\n",
    "- 使用策略迭代算法，计算最优值函数。并画出最优值函数和最优策略，并画出收敛曲线\n",
    "- 使用值迭代算法，计算最优值函数。并画出收敛曲线，和策略迭代对比\n",
    "- 使用就地 (in-place) 的值迭代算法，计算最优值函数。并画出收敛曲线, 与前两者对比\n",
    "\n",
    "(提示:环境部分代码已给;由于好策略的每一个状态的值函数都要大于坏的策略，所以收敛曲线的一种绘制方式画出平均值函数-迭代步数的曲线)\n",
    "\n",
    "![](http://ww1.sinaimg.cn/large/006tNc79ly1g4vtpd3ro6j30f10e6gmq.jpg)\n"
   ]
  },
  {
   "cell_type": "code",
   "execution_count": null,
   "metadata": {
    "pycharm": {
     "is_executing": true
    }
   },
   "outputs": [],
   "source": [
    "import numpy as np\n",
    "from code3_DP import Env, value_evaluate, policy_iteration, value_iteration, inplace_value_iteration\n",
    "\n",
    "WORLD_SIZE = 5\n",
    "N_ACTIONS = 4  # [North, South, West, East]\n"
   ]
  },
  {
   "cell_type": "code",
   "execution_count": null,
   "metadata": {
    "collapsed": false,
    "pycharm": {
     "is_executing": true
    }
   },
   "outputs": [],
   "source": [
    "random_policy = np.full((WORLD_SIZE, WORLD_SIZE, N_ACTIONS),\n",
    "                        1. / N_ACTIONS, dtype=np.float32)\n",
    "# 可以打印随机策略所对应的表格\n",
    "for i in range(WORLD_SIZE):\n",
    "    for j in range(WORLD_SIZE):\n",
    "        print(\"State: ({},{}) - action prob{}\".format(i, j, random_policy[i, j]))"
   ]
  },
  {
   "cell_type": "code",
   "execution_count": null,
   "metadata": {
    "collapsed": true,
    "pycharm": {
     "is_executing": true
    }
   },
   "outputs": [],
   "source": [
    "env = Env()\n",
    "random_V = value_evaluate(random_policy, env)\n",
    "print(random_V)"
   ]
  },
  {
   "cell_type": "code",
   "execution_count": null,
   "metadata": {
    "pycharm": {
     "is_executing": true
    }
   },
   "outputs": [],
   "source": [
    "V, mean_values, policy, run_times = policy_iteration()"
   ]
  },
  {
   "cell_type": "code",
   "execution_count": null,
   "metadata": {
    "pycharm": {
     "is_executing": true
    }
   },
   "outputs": [],
   "source": [
    "V"
   ]
  },
  {
   "cell_type": "code",
   "execution_count": null,
   "metadata": {
    "pycharm": {
     "is_executing": true
    }
   },
   "outputs": [],
   "source": [
    "policy"
   ]
  },
  {
   "cell_type": "markdown",
   "metadata": {},
   "source": [
    "我们根据上面的policy可以绘制出最优策略如下(其中格子中的多个箭头表示可以任选一个策略)：\n",
    "\n",
    "![](http://ww4.sinaimg.cn/large/006tNc79ly1g4w1by6e8tj305u04cdfz.jpg)\n"
   ]
  },
  {
   "cell_type": "code",
   "execution_count": null,
   "metadata": {
    "pycharm": {
     "is_executing": true
    }
   },
   "outputs": [],
   "source": [
    "V1, mean_values1, run_times1 = value_iteration()"
   ]
  },
  {
   "cell_type": "code",
   "execution_count": null,
   "metadata": {
    "pycharm": {
     "is_executing": true
    }
   },
   "outputs": [],
   "source": [
    "V1"
   ]
  },
  {
   "cell_type": "code",
   "execution_count": null,
   "metadata": {
    "pycharm": {
     "is_executing": true
    }
   },
   "outputs": [],
   "source": [
    "print(np.all(V - V1 < 1e-6))"
   ]
  },
  {
   "cell_type": "code",
   "execution_count": null,
   "metadata": {
    "pycharm": {
     "is_executing": true
    }
   },
   "outputs": [],
   "source": [
    "V2, mean_values2, run_times2 = inplace_value_iteration()"
   ]
  },
  {
   "cell_type": "code",
   "execution_count": null,
   "metadata": {
    "pycharm": {
     "is_executing": true
    }
   },
   "outputs": [],
   "source": [
    "print(np.all(V - V2 < 1e-6))"
   ]
  },
  {
   "cell_type": "code",
   "execution_count": null,
   "metadata": {
    "pycharm": {
     "is_executing": true
    }
   },
   "outputs": [],
   "source": [
    "import matplotlib.pyplot as plt\n",
    "%matplotlib inline\n",
    "plt.style.use('ggplot')"
   ]
  },
  {
   "cell_type": "code",
   "execution_count": null,
   "metadata": {
    "pycharm": {
     "is_executing": true
    }
   },
   "outputs": [],
   "source": [
    "plt.plot(mean_values)\n",
    "plt.plot(mean_values1)\n",
    "plt.plot(mean_values2)\n",
    "plt.legend(['Policy iteration', 'Value Iteration', 'Inplace Value Iteration'])\n",
    "plt.xlabel('Update steps')\n",
    "plt.ylabel('Mean value function')"
   ]
  },
  {
   "cell_type": "markdown",
   "metadata": {},
   "source": [
    "可以看出，相同迭代步数的情况下\n",
    "\n",
    "- 策略迭代最快\n",
    "- 值迭代最慢\n",
    "\n",
    "这是因为策略迭代每次迭代都是在策略评价收敛之后再进行的策略提升，因此每次迭代时，值函数增长的越多"
   ]
  },
  {
   "cell_type": "code",
   "execution_count": null,
   "metadata": {
    "pycharm": {
     "is_executing": true
    }
   },
   "outputs": [],
   "source": [
    "plt.plot(run_times, mean_values)\n",
    "plt.plot(run_times1, mean_values1)\n",
    "plt.plot(run_times2, mean_values2)\n",
    "plt.legend(['Policy iteration', 'Value Iteration', 'Inplace Value Iteration'])\n",
    "plt.xlabel('times')\n",
    "plt.ylabel('Mean value function')"
   ]
  },
  {
   "cell_type": "markdown",
   "metadata": {
    "pycharm": {
     "name": "#%% md\n"
    }
   },
   "source": [
    "可以看出，相同更新时间的情况下：\n",
    "\n",
    "- Inplace Value Iteration最快\n",
    "- 值迭代方法快于策略迭代的方法"
   ]
  }
 ],
 "metadata": {
  "kernelspec": {
   "name": "python3",
   "language": "python",
   "display_name": "Python 3"
  },
  "language_info": {
   "codemirror_mode": {
    "name": "ipython",
    "version": 2
   },
   "file_extension": ".py",
   "mimetype": "text/x-python",
   "name": "python",
   "nbconvert_exporter": "python",
   "pygments_lexer": "ipython2",
   "version": "2.7.6"
  },
  "pycharm": {
   "stem_cell": {
    "cell_type": "raw",
    "source": [],
    "metadata": {
     "collapsed": false
    }
   }
  }
 },
 "nbformat": 4,
 "nbformat_minor": 0
}