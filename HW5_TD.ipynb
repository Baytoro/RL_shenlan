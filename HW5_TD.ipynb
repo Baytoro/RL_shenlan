{
 "cells": [
  {
   "cell_type": "code",
   "execution_count": 1,
   "metadata": {
    "collapsed": true,
    "pycharm": {
     "is_executing": false
    }
   },
   "outputs": [
    {
     "name": "stdout",
     "text": [
      "TURE Values:[0.         0.16666667 0.33333333 0.5        0.66666667 0.83333333\n 1.        ]\nInitial Values:[0.  0.5 0.5 0.5 0.5 0.5 1. ]\n"
     ],
     "output_type": "stream"
    }
   ],
   "source": [
    "import numpy as np\n",
    "import matplotlib.pyplot as plt\n",
    "plt.style.use('ggplot')\n",
    "%matplotlib inline\n",
    "TRUE_V = np.arange(7) / 6.0\n",
    "print(\"TURE Values:{}\".format(TRUE_V))\n",
    "\n",
    "V = np.zeros(7)\n",
    "V[1:6] = 0.5\n",
    "V[6] = 1\n",
    "print(\"Initial Values:{}\".format(V))\n",
    "\n",
    "LEFT = 0\n",
    "RIGHT = 1"
   ]
  },
  {
   "cell_type": "code",
   "execution_count": 2,
   "metadata": {
    "pycharm": {
     "is_executing": false
    }
   },
   "outputs": [],
   "source": [
    "def td(V, alpha=0.1):\n",
    "    state = 3\n",
    "    while True:\n",
    "        if np.random.binomial(1, 0.5) == LEFT:\n",
    "            next_state = state - 1\n",
    "        else:\n",
    "            next_state = state + 1\n",
    "        reward = 0 # 利用trick，设置所有的奖励为0\n",
    "        V[state] += alpha * (reward + V[next_state] - V[state])\n",
    "        if next_state == 6 or next_state == 0:\n",
    "            break\n",
    "        state = next_state"
   ]
  },
  {
   "cell_type": "code",
   "execution_count": 3,
   "metadata": {
    "pycharm": {
     "is_executing": false
    }
   },
   "outputs": [],
   "source": [
    "def plot_value_with_episodes():\n",
    "    episodes = [0, 1, 10, 100]\n",
    "    curr_V = np.copy(V)\n",
    "    for i in range(episodes[-1] + 1):\n",
    "        if i in episodes:\n",
    "            plt.plot(curr_V, label=\"{} episodes\".format(i))\n",
    "        td(curr_V)\n",
    "    plt.plot(TRUE_V, label=\"true values\")\n",
    "    plt.xlabel('state')\n",
    "    plt.ylabel('estimated value')\n",
    "    plt.legend()"
   ]
  },
  {
   "cell_type": "code",
   "execution_count": 3,
   "metadata": {
    "pycharm": {
     "is_executing": false
    }
   },
   "outputs": [],
   "source": [
    "\n"
   ]
  }
 ],
 "metadata": {
  "kernelspec": {
   "name": "python3",
   "language": "python",
   "display_name": "Python 3"
  },
  "language_info": {
   "codemirror_mode": {
    "name": "ipython",
    "version": 2
   },
   "file_extension": ".py",
   "mimetype": "text/x-python",
   "name": "python",
   "nbconvert_exporter": "python",
   "pygments_lexer": "ipython2",
   "version": "2.7.6"
  },
  "pycharm": {
   "stem_cell": {
    "cell_type": "raw",
    "source": [],
    "metadata": {
     "collapsed": false
    }
   }
  }
 },
 "nbformat": 4,
 "nbformat_minor": 0
}